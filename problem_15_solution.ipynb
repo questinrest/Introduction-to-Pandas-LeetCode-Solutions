{
 "cells": [
  {
   "cell_type": "markdown",
   "metadata": {},
   "source": [
    "## 2891. Method Chaining\n"
   ]
  },
  {
   "cell_type": "code",
   "execution_count": null,
   "metadata": {
    "vscode": {
     "languageId": "plaintext"
    }
   },
   "outputs": [],
   "source": [
    "import pandas as pd\n",
    "\n",
    "def findHeavyAnimals(animals: pd.DataFrame) -> pd.DataFrame:\n",
    "    animals.sort_values('weight',ascending = False, inplace = True)\n",
    "    f1 = animals['weight'] > 100\n",
    "    animals.where(f1, inplace = True)\n",
    "    result = pd.DataFrame(animals['name'])\n",
    "    result.dropna(inplace = True)\n",
    "    return result\n",
    "    "
   ]
  }
 ],
 "metadata": {
  "language_info": {
   "name": "python"
  }
 },
 "nbformat": 4,
 "nbformat_minor": 2
}
